{
 "cells": [
  {
   "cell_type": "markdown",
   "id": "626a022d-5469-4e2c-aba7-c6b00be60b54",
   "metadata": {},
   "source": [
    "# Level 1: Rice Crop Discovery Tool Benchmark Notebook"
   ]
  },
  {
   "cell_type": "markdown",
   "id": "ccfd5ecb-92da-4356-860f-64cec7534b45",
   "metadata": {},
   "source": [
    "## Challenge Level 1 Overview"
   ]
  },
  {
   "cell_type": "markdown",
   "id": "2cb152d6-21e5-46c6-931d-11e99e6a6798",
   "metadata": {
    "tags": []
   },
   "source": [
    "## Load In Dependencies"
   ]
  },
  {
   "cell_type": "code",
   "execution_count": 61,
   "id": "3a03723e-78ae-4150-ba22-e2e485b95cdb",
   "metadata": {
    "tags": []
   },
   "outputs": [],
   "source": [
    "# Supress Warnings\n",
    "import warnings\n",
    "warnings.filterwarnings('ignore')\n",
    "\n",
    "# Visualization\n",
    "import ipyleaflet\n",
    "import matplotlib.pyplot as plt\n",
    "from IPython.display import Image\n",
    "import seaborn as sns\n",
    "\n",
    "# Data Science\n",
    "import numpy as np\n",
    "import pandas as pd\n",
    "\n",
    "# Feature Engineering\n",
    "from sklearn.preprocessing import StandardScaler\n",
    "from sklearn.model_selection import train_test_split\n",
    "\n",
    "# Machine Learning\n",
    "from sklearn.linear_model import LogisticRegression\n",
    "from sklearn.metrics import f1_score, accuracy_score,classification_report,confusion_matrix\n",
    "\n",
    "# Planetary Computer Tools\n",
    "import pystac\n",
    "import pystac_client\n",
    "import odc\n",
    "from pystac_client import Client\n",
    "from pystac.extensions.eo import EOExtension as eo\n",
    "from odc.stac import stac_load\n",
    "from odc.algo import to_rgba\n",
    "from odc.stac import stac_load\n",
    "import planetary_computer as pc\n",
    "pc.settings.set_subscription_key('5621b92444c44ee48b55cf03c7dad3c1')\n",
    "\n",
    "# Others\n",
    "import requests\n",
    "import rich.table\n",
    "from itertools import cycle\n",
    "from tqdm import tqdm\n",
    "tqdm.pandas()"
   ]
  },
  {
   "cell_type": "markdown",
   "id": "1c268cf6",
   "metadata": {},
   "source": [
    "## Response Variable"
   ]
  },
  {
   "cell_type": "code",
   "execution_count": 67,
   "id": "0f1da678",
   "metadata": {
    "tags": []
   },
   "outputs": [
    {
     "data": {
      "text/html": [
       "<div>\n",
       "<style scoped>\n",
       "    .dataframe tbody tr th:only-of-type {\n",
       "        vertical-align: middle;\n",
       "    }\n",
       "\n",
       "    .dataframe tbody tr th {\n",
       "        vertical-align: top;\n",
       "    }\n",
       "\n",
       "    .dataframe thead th {\n",
       "        text-align: right;\n",
       "    }\n",
       "</style>\n",
       "<table border=\"1\" class=\"dataframe\">\n",
       "  <thead>\n",
       "    <tr style=\"text-align: right;\">\n",
       "      <th></th>\n",
       "      <th>Latitude and Longitude</th>\n",
       "      <th>Class of Land</th>\n",
       "    </tr>\n",
       "  </thead>\n",
       "  <tbody>\n",
       "    <tr>\n",
       "      <th>595</th>\n",
       "      <td>(10.013942985253381, 105.67361318732796)</td>\n",
       "      <td>Non Rice</td>\n",
       "    </tr>\n",
       "    <tr>\n",
       "      <th>596</th>\n",
       "      <td>(10.01348875642372, 105.67361318732796)</td>\n",
       "      <td>Non Rice</td>\n",
       "    </tr>\n",
       "    <tr>\n",
       "      <th>597</th>\n",
       "      <td>(10.013034527594062, 105.67361318732796)</td>\n",
       "      <td>Non Rice</td>\n",
       "    </tr>\n",
       "    <tr>\n",
       "      <th>598</th>\n",
       "      <td>(10.012580298764401, 105.67361318732796)</td>\n",
       "      <td>Non Rice</td>\n",
       "    </tr>\n",
       "    <tr>\n",
       "      <th>599</th>\n",
       "      <td>(10.012126069934741, 105.67361318732796)</td>\n",
       "      <td>Non Rice</td>\n",
       "    </tr>\n",
       "  </tbody>\n",
       "</table>\n",
       "</div>"
      ],
      "text/plain": [
       "                       Latitude and Longitude Class of Land\n",
       "595  (10.013942985253381, 105.67361318732796)      Non Rice\n",
       "596   (10.01348875642372, 105.67361318732796)      Non Rice\n",
       "597  (10.013034527594062, 105.67361318732796)      Non Rice\n",
       "598  (10.012580298764401, 105.67361318732796)      Non Rice\n",
       "599  (10.012126069934741, 105.67361318732796)      Non Rice"
      ]
     },
     "execution_count": 67,
     "metadata": {},
     "output_type": "execute_result"
    }
   ],
   "source": [
    "crop_train_data = pd.read_csv(\"Crop_Location_Data_20221201_org.csv\")\n",
    "crop_train_data.tail()"
   ]
  },
  {
   "cell_type": "markdown",
   "id": "b3b6812c-7137-4873-b4ed-2dcdd470209b",
   "metadata": {},
   "source": [
    "## Predictor Variables"
   ]
  },
  {
   "cell_type": "code",
   "execution_count": 68,
   "id": "2e065216-120b-4269-87e7-0340735dd5d2",
   "metadata": {
    "tags": []
   },
   "outputs": [],
   "source": [
    "def calculate_rvi(mean_vv, mean_vh):\n",
    "    dop = (mean_vv / (mean_vv + mean_vh))\n",
    "    m = 1 - dop\n",
    "    rvi = (np.sqrt(dop)) * ((4 * mean_vh) / (mean_vv + mean_vh))\n",
    "    return rvi\n",
    "    \n",
    "\n",
    "def get_sentinel_data(latlong,time_slice,assets):\n",
    "    '''\n",
    "    Returns VV and VH values for a given latitude and longitude \n",
    "    Attributes:\n",
    "    latlong - A tuple with 2 elements - latitude and longitude\n",
    "    time_slice - Timeframe for which the VV and VH values have to be extracted\n",
    "    assets - A list of bands to be extracted\n",
    "    '''\n",
    "\n",
    "    latlong=latlong.replace('(','').replace(')','').replace(' ','').split(',')\n",
    "    #bbox_of_interest = (float(latlong[1]) , float(latlong[0]), float(latlong[1]) , float(latlong[0]))\n",
    "    box_size_deg = 0.00056 # Surrounding box in degrees, yields approximately 7x7 pixel region\n",
    "\n",
    "    min_lon = float(float(latlong[1])-box_size_deg/2)\n",
    "    min_lat = float(float(latlong[0])-box_size_deg/2)\n",
    "    max_lon = float(float(latlong[1])+box_size_deg/2)\n",
    "    max_lat = float(float(latlong[0])+box_size_deg/2)\n",
    "\n",
    "    bbox_of_interest = (min_lon, min_lat, max_lon, max_lat)\n",
    "    time_of_interest = time_slice\n",
    "\n",
    "    catalog = pystac_client.Client.open(\n",
    "        \"https://planetarycomputer.microsoft.com/api/stac/v1\"\n",
    "    )\n",
    "    search = catalog.search(\n",
    "        collections=[\"sentinel-1-rtc\"], bbox=bbox_of_interest, datetime=time_of_interest\n",
    "    )\n",
    "    items = list(search.get_all_items())\n",
    "    bands_of_interest = assests\n",
    "    data = stac_load([items[0]], patch_url=pc.sign, bbox=bbox_of_interest).isel(time=0)\n",
    "    vh = data[\"vh\"].astype(\"float\").values.tolist()[0][0]\n",
    "    vv = data[\"vv\"].astype(\"float\").values.tolist()[0][0]\n",
    "    rvi = calculate_rvi(np.mean(vv), np.mean(vh))\n",
    "    return vh,vv,rvi"
   ]
  },
  {
   "cell_type": "code",
   "execution_count": 69,
   "id": "85a0eb10-5421-4053-aece-f4757688743b",
   "metadata": {
    "tags": []
   },
   "outputs": [],
   "source": [
    "def get_sentinel_data2(latlong, time_slice):\n",
    "    '''\n",
    "    Returns NDVI, SAVI, and EVI values for a given latitude and longitude \n",
    "    Attributes:\n",
    "    latlong - A tuple with 2 elements - latitude and longitude\n",
    "    time_slice - Timeframe for which the NDVI, SAVI, and EVI values have to be extracted\n",
    "    '''\n",
    "\n",
    "    latlong = latlong.replace('(', '').replace(')', '').replace(' ', '').split(',')\n",
    "    \n",
    "    box_size_deg = 0.1  \n",
    "\n",
    "    # Calculate bounding box coordinates\n",
    "    min_lon = float(float(latlong[1]) - box_size_deg / 2)\n",
    "    min_lat = float(float(latlong[0]) - box_size_deg / 2)\n",
    "    max_lon = float(float(latlong[1]) + box_size_deg / 2)\n",
    "    max_lat = float(float(latlong[0]) + box_size_deg / 2)\n",
    "\n",
    "    # Define the bounding box of interest\n",
    "    bbox_of_interest = (min_lon, min_lat, max_lon, max_lat)\n",
    "    time_of_interest = time_slice\n",
    "\n",
    "    # Load Sentinel-2 data\n",
    "    catalog = pystac_client.Client.open(\"https://planetarycomputer.microsoft.com/api/stac/v1\")\n",
    "    search = catalog.search(collections=[\"sentinel-2-l2a\"], bbox=bbox_of_interest, datetime=time_of_interest)\n",
    "    items = list(search.get_all_items())\n",
    "    data = stac_load(\n",
    "        [items[0]],\n",
    "        bands=[\"red\", \"green\", \"blue\", \"nir\", \"SCL\", \"swir16\"],\n",
    "        crs=\"EPSG:4326\",  # Latitude-Longitude\n",
    "        resolution=20 / 111320.0,  # Degrees\n",
    "        chunks={\"x\": 2048, \"y\": 2048},\n",
    "        dtype=\"uint16\",\n",
    "        patch_url=pc.sign,\n",
    "        bbox=bbox_of_interest\n",
    "    ).isel(time=0)\n",
    "\n",
    "    # Extract required bands\n",
    "    mean_unfiltered = data.mean(dim=['longitude','latitude']).compute()\n",
    "    ndvi = (mean_unfiltered.nir - mean_unfiltered.red) / (mean_unfiltered.nir + mean_unfiltered.red)\n",
    "    \n",
    "    l1 = 0.5\n",
    "    savi = ((mean_unfiltered.nir - mean_unfiltered.red) / (mean_unfiltered.nir + mean_unfiltered.red + l1)) * (1 + l1)\n",
    "    \n",
    "    l = 1.0\n",
    "    c1 = 6.0\n",
    "    c2 = 7.5\n",
    "    evi = 2.5 * ((mean_unfiltered.nir - mean_unfiltered.red) / (mean_unfiltered.nir + c1 * mean_unfiltered.red - c2 * mean_unfiltered.blue + l))\n",
    "\n",
    "    albedo = 0.356 * mean_unfiltered.blue + 0.130 * mean_unfiltered.green + 0.373 * mean_unfiltered.red + 0.085 * mean_unfiltered.nir + 0.072 * mean_unfiltered.swir16 +0.0018 \n",
    "\n",
    "    return ndvi.item(), savi.item(), evi.item(), albedo.item()"
   ]
  },
  {
   "cell_type": "code",
   "execution_count": null,
   "id": "e6b0bd1e-d9ef-4c85-b606-535d33032f37",
   "metadata": {},
   "outputs": [],
   "source": [
    "## Get Sentinel-1-RTC Data\n",
    "time_slice = \"2022-12-01/2024-03-20\"\n",
    "assests = ['vh','vv']\n",
    "vh_vv = []\n",
    "for coordinates in tqdm(crop_train_data['Latitude and Longitude']):\n",
    "    vh_vv.append(get_sentinel_data(coordinates,time_slice,assests))\n",
    "vh_vv_data = pd.DataFrame(vh_vv,columns =['vh','vv','rvi'])"
   ]
  },
  {
   "cell_type": "code",
   "execution_count": null,
   "id": "9784501d-3583-44bc-9b94-98178ed19c38",
   "metadata": {},
   "outputs": [],
   "source": [
    "## Function call to extract VV,VH Values\n",
    "time_slice = \"2022-12-01/2024-03-20\"\n",
    "ndvi_savi_evi_albedo = []\n",
    "for coordinates in tqdm(crop_train_data['Latitude and Longitude']):\n",
    "    ndvi_savi_evi_albedo.append(get_sentinel_data2(coordinates,time_slice))\n",
    "ndvi_savi_evi_albedo_data = pd.DataFrame(ndvi_savi_evi_albedo,columns =['ndvi','savi','evi','albedo'])"
   ]
  },
  {
   "cell_type": "code",
   "execution_count": 52,
   "id": "39e99a9c-f2b1-480a-9df5-47cb9dfa1007",
   "metadata": {
    "tags": []
   },
   "outputs": [
    {
     "data": {
      "text/html": [
       "<div>\n",
       "<style scoped>\n",
       "    .dataframe tbody tr th:only-of-type {\n",
       "        vertical-align: middle;\n",
       "    }\n",
       "\n",
       "    .dataframe tbody tr th {\n",
       "        vertical-align: top;\n",
       "    }\n",
       "\n",
       "    .dataframe thead th {\n",
       "        text-align: right;\n",
       "    }\n",
       "</style>\n",
       "<table border=\"1\" class=\"dataframe\">\n",
       "  <thead>\n",
       "    <tr style=\"text-align: right;\">\n",
       "      <th></th>\n",
       "      <th>vh</th>\n",
       "      <th>vv</th>\n",
       "      <th>rvi</th>\n",
       "    </tr>\n",
       "  </thead>\n",
       "  <tbody>\n",
       "    <tr>\n",
       "      <th>595</th>\n",
       "      <td>0.049336</td>\n",
       "      <td>0.141694</td>\n",
       "      <td>0.889711</td>\n",
       "    </tr>\n",
       "    <tr>\n",
       "      <th>596</th>\n",
       "      <td>0.039267</td>\n",
       "      <td>0.063976</td>\n",
       "      <td>1.197584</td>\n",
       "    </tr>\n",
       "    <tr>\n",
       "      <th>597</th>\n",
       "      <td>0.133557</td>\n",
       "      <td>0.263397</td>\n",
       "      <td>1.096282</td>\n",
       "    </tr>\n",
       "    <tr>\n",
       "      <th>598</th>\n",
       "      <td>0.081896</td>\n",
       "      <td>0.142046</td>\n",
       "      <td>1.165024</td>\n",
       "    </tr>\n",
       "    <tr>\n",
       "      <th>599</th>\n",
       "      <td>0.037517</td>\n",
       "      <td>0.193375</td>\n",
       "      <td>0.594801</td>\n",
       "    </tr>\n",
       "  </tbody>\n",
       "</table>\n",
       "</div>"
      ],
      "text/plain": [
       "           vh        vv       rvi\n",
       "595  0.049336  0.141694  0.889711\n",
       "596  0.039267  0.063976  1.197584\n",
       "597  0.133557  0.263397  1.096282\n",
       "598  0.081896  0.142046  1.165024\n",
       "599  0.037517  0.193375  0.594801"
      ]
     },
     "execution_count": 52,
     "metadata": {},
     "output_type": "execute_result"
    }
   ],
   "source": [
    "vh_vv_data.tail()"
   ]
  },
  {
   "cell_type": "code",
   "execution_count": 16,
   "id": "3cb521c0-d07c-4bfd-b355-d7db03418d44",
   "metadata": {},
   "outputs": [
    {
     "data": {
      "text/html": [
       "<div>\n",
       "<style scoped>\n",
       "    .dataframe tbody tr th:only-of-type {\n",
       "        vertical-align: middle;\n",
       "    }\n",
       "\n",
       "    .dataframe tbody tr th {\n",
       "        vertical-align: top;\n",
       "    }\n",
       "\n",
       "    .dataframe thead th {\n",
       "        text-align: right;\n",
       "    }\n",
       "</style>\n",
       "<table border=\"1\" class=\"dataframe\">\n",
       "  <thead>\n",
       "    <tr style=\"text-align: right;\">\n",
       "      <th></th>\n",
       "      <th>ndvi</th>\n",
       "      <th>savi</th>\n",
       "      <th>evi</th>\n",
       "      <th>albedo</th>\n",
       "    </tr>\n",
       "  </thead>\n",
       "  <tbody>\n",
       "    <tr>\n",
       "      <th>0</th>\n",
       "      <td>0.302316</td>\n",
       "      <td>0.453438</td>\n",
       "      <td>1.103692</td>\n",
       "      <td>2283.164623</td>\n",
       "    </tr>\n",
       "    <tr>\n",
       "      <th>1</th>\n",
       "      <td>0.302123</td>\n",
       "      <td>0.453147</td>\n",
       "      <td>1.106074</td>\n",
       "      <td>2253.582363</td>\n",
       "    </tr>\n",
       "    <tr>\n",
       "      <th>2</th>\n",
       "      <td>0.302281</td>\n",
       "      <td>0.453384</td>\n",
       "      <td>1.099707</td>\n",
       "      <td>2285.776173</td>\n",
       "    </tr>\n",
       "    <tr>\n",
       "      <th>3</th>\n",
       "      <td>0.302208</td>\n",
       "      <td>0.453275</td>\n",
       "      <td>1.103770</td>\n",
       "      <td>2282.715433</td>\n",
       "    </tr>\n",
       "    <tr>\n",
       "      <th>4</th>\n",
       "      <td>0.302684</td>\n",
       "      <td>0.453988</td>\n",
       "      <td>1.102071</td>\n",
       "      <td>2261.597149</td>\n",
       "    </tr>\n",
       "  </tbody>\n",
       "</table>\n",
       "</div>"
      ],
      "text/plain": [
       "       ndvi      savi       evi       albedo\n",
       "0  0.302316  0.453438  1.103692  2283.164623\n",
       "1  0.302123  0.453147  1.106074  2253.582363\n",
       "2  0.302281  0.453384  1.099707  2285.776173\n",
       "3  0.302208  0.453275  1.103770  2282.715433\n",
       "4  0.302684  0.453988  1.102071  2261.597149"
      ]
     },
     "execution_count": 16,
     "metadata": {},
     "output_type": "execute_result"
    }
   ],
   "source": [
    "ndvi_savi_evi_albedo_data.head()"
   ]
  },
  {
   "cell_type": "markdown",
   "id": "aa872546-7567-418c-af04-1d8b4fa5bd60",
   "metadata": {},
   "source": [
    "## Joining the predictor variables and response variables\n",
    "Now that we have extracted our predictor variables, we need to join them onto the response variable . We use the function <i><b>combine_two_datasets</b></i> to combine the predictor variables and response variables.The <i><b>concat</b></i> function from pandas comes in handy here."
   ]
  },
  {
   "cell_type": "code",
   "execution_count": 17,
   "id": "96296d95-8290-4f26-80f9-9e221bfcfc81",
   "metadata": {
    "tags": []
   },
   "outputs": [],
   "source": [
    "def combine_all_datasets(data1,data2,data3):\n",
    "    merged_data = pd.concat([data1,data2,data3], axis=1)\n",
    "    return merged_data"
   ]
  },
  {
   "cell_type": "code",
   "execution_count": 18,
   "id": "20fa2b5f-727b-4781-9ff4-cc70596cd3f0",
   "metadata": {
    "tags": []
   },
   "outputs": [
    {
     "data": {
      "text/html": [
       "<div>\n",
       "<style scoped>\n",
       "    .dataframe tbody tr th:only-of-type {\n",
       "        vertical-align: middle;\n",
       "    }\n",
       "\n",
       "    .dataframe tbody tr th {\n",
       "        vertical-align: top;\n",
       "    }\n",
       "\n",
       "    .dataframe thead th {\n",
       "        text-align: right;\n",
       "    }\n",
       "</style>\n",
       "<table border=\"1\" class=\"dataframe\">\n",
       "  <thead>\n",
       "    <tr style=\"text-align: right;\">\n",
       "      <th></th>\n",
       "      <th>Latitude and Longitude</th>\n",
       "      <th>Class of Land</th>\n",
       "      <th>vh</th>\n",
       "      <th>vv</th>\n",
       "      <th>rvi</th>\n",
       "      <th>ndvi</th>\n",
       "      <th>savi</th>\n",
       "      <th>evi</th>\n",
       "      <th>albedo</th>\n",
       "    </tr>\n",
       "  </thead>\n",
       "  <tbody>\n",
       "    <tr>\n",
       "      <th>595</th>\n",
       "      <td>(10.013942985253381, 105.67361318732796)</td>\n",
       "      <td>Non Rice</td>\n",
       "      <td>0.052538</td>\n",
       "      <td>0.273019</td>\n",
       "      <td>0.591138</td>\n",
       "      <td>0.414787</td>\n",
       "      <td>0.622125</td>\n",
       "      <td>2.245775</td>\n",
       "      <td>1931.546659</td>\n",
       "    </tr>\n",
       "    <tr>\n",
       "      <th>596</th>\n",
       "      <td>(10.01348875642372, 105.67361318732796)</td>\n",
       "      <td>Non Rice</td>\n",
       "      <td>0.061710</td>\n",
       "      <td>0.346578</td>\n",
       "      <td>0.557014</td>\n",
       "      <td>0.415254</td>\n",
       "      <td>0.622826</td>\n",
       "      <td>2.247774</td>\n",
       "      <td>1930.865753</td>\n",
       "    </tr>\n",
       "    <tr>\n",
       "      <th>597</th>\n",
       "      <td>(10.013034527594062, 105.67361318732796)</td>\n",
       "      <td>Non Rice</td>\n",
       "      <td>0.093156</td>\n",
       "      <td>0.178609</td>\n",
       "      <td>1.111556</td>\n",
       "      <td>0.415820</td>\n",
       "      <td>0.623675</td>\n",
       "      <td>2.250099</td>\n",
       "      <td>1930.043236</td>\n",
       "    </tr>\n",
       "    <tr>\n",
       "      <th>598</th>\n",
       "      <td>(10.012580298764401, 105.67361318732796)</td>\n",
       "      <td>Non Rice</td>\n",
       "      <td>0.062540</td>\n",
       "      <td>0.268455</td>\n",
       "      <td>0.680646</td>\n",
       "      <td>0.416233</td>\n",
       "      <td>0.624294</td>\n",
       "      <td>2.252151</td>\n",
       "      <td>1929.522602</td>\n",
       "    </tr>\n",
       "    <tr>\n",
       "      <th>599</th>\n",
       "      <td>(10.012126069934741, 105.67361318732796)</td>\n",
       "      <td>Non Rice</td>\n",
       "      <td>0.075619</td>\n",
       "      <td>0.238131</td>\n",
       "      <td>0.839889</td>\n",
       "      <td>0.416776</td>\n",
       "      <td>0.625108</td>\n",
       "      <td>2.255144</td>\n",
       "      <td>1928.746698</td>\n",
       "    </tr>\n",
       "  </tbody>\n",
       "</table>\n",
       "</div>"
      ],
      "text/plain": [
       "                       Latitude and Longitude Class of Land        vh  \\\n",
       "595  (10.013942985253381, 105.67361318732796)      Non Rice  0.052538   \n",
       "596   (10.01348875642372, 105.67361318732796)      Non Rice  0.061710   \n",
       "597  (10.013034527594062, 105.67361318732796)      Non Rice  0.093156   \n",
       "598  (10.012580298764401, 105.67361318732796)      Non Rice  0.062540   \n",
       "599  (10.012126069934741, 105.67361318732796)      Non Rice  0.075619   \n",
       "\n",
       "           vv       rvi      ndvi      savi       evi       albedo  \n",
       "595  0.273019  0.591138  0.414787  0.622125  2.245775  1931.546659  \n",
       "596  0.346578  0.557014  0.415254  0.622826  2.247774  1930.865753  \n",
       "597  0.178609  1.111556  0.415820  0.623675  2.250099  1930.043236  \n",
       "598  0.268455  0.680646  0.416233  0.624294  2.252151  1929.522602  \n",
       "599  0.238131  0.839889  0.416776  0.625108  2.255144  1928.746698  "
      ]
     },
     "execution_count": 18,
     "metadata": {},
     "output_type": "execute_result"
    }
   ],
   "source": [
    "final_data = combine_all_datasets(crop_train_data,vh_vv_data,ndvi_savi_evi_albedo_data)\n",
    "final_data.tail()"
   ]
  },
  {
   "cell_type": "code",
   "execution_count": 19,
   "id": "ff6e7c73-7d26-4819-93fe-af0dfd6b6bcd",
   "metadata": {},
   "outputs": [],
   "source": [
    "final_data.to_csv('output.csv', index=False)"
   ]
  },
  {
   "cell_type": "code",
   "execution_count": 74,
   "id": "f029f114-155e-42d0-8845-f282bd9bf1ba",
   "metadata": {},
   "outputs": [],
   "source": [
    "final_data = pd.read_csv('output (1).csv')"
   ]
  },
  {
   "cell_type": "markdown",
   "id": "fd4af7b5-41d1-4822-8d78-5e4bdc84b287",
   "metadata": {},
   "source": [
    "## Model Building\n"
   ]
  },
  {
   "cell_type": "markdown",
   "id": "a664ca55-dba1-440b-a4ef-2b6934c03929",
   "metadata": {},
   "source": [
    "<p align=\"justify\"> Now let us select the columns required for our model building exercise. We will consider only VV and VH for our model. It does not make sense to use latitude and longitude as predictor variables as they do not have any impact on presence of rice crop.</p>"
   ]
  },
  {
   "cell_type": "markdown",
   "id": "fca40658-8003-4195-b0d1-5efe29929ac9",
   "metadata": {},
   "source": [
    "### Train and Test Split "
   ]
  },
  {
   "cell_type": "markdown",
   "id": "b46507f5-cfd1-43d8-8b05-aa09ce8016af",
   "metadata": {},
   "source": [
    "<p align=\"justify\">We will now split the data into 70% training data and 30% test data. Scikit-learn alias “sklearn” is a robust library for machine learning in Python. The scikit-learn library has a <i><b>model_selection</b></i> module in which there is a splitting function <i><b>train_test_split</b></i>. You can use the same.</p>"
   ]
  },
  {
   "cell_type": "code",
   "execution_count": 78,
   "id": "062ac03d-245d-49af-82d9-56d3ac581e85",
   "metadata": {
    "tags": []
   },
   "outputs": [],
   "source": [
    "# Split the data into features (X) and target variable (y)\n",
    "X = final_data[['vh', 'vv', 'rvi', 'ndvi', 'savi', 'evi', 'albedo']]\n",
    "y = final_data['Class of Land']\n",
    "\n",
    "# Encode the target variable\n",
    "from sklearn.preprocessing import LabelEncoder\n",
    "label_encoder = LabelEncoder()\n",
    "y_encoded = label_encoder.fit_transform(y)\n",
    "\n",
    "# Split the data into training and testing sets\n",
    "X_train, X_test, y_train_encoded, y_test_encoded = train_test_split(X, y_encoded, test_size=0.3, random_state=42)"
   ]
  },
  {
   "cell_type": "markdown",
   "id": "b031607b-9e71-46c8-beb1-3610ab59c56a",
   "metadata": {},
   "source": [
    "### Feature Scaling "
   ]
  },
  {
   "cell_type": "code",
   "execution_count": 79,
   "id": "73726452-eb94-45c7-94d4-a16bcae8a377",
   "metadata": {},
   "outputs": [],
   "source": [
    "from sklearn.preprocessing import MinMaxScaler\n",
    "mc = MinMaxScaler()\n",
    "X_train = mc.fit_transform(X_train)\n",
    "X_test = mc.transform(X_test)"
   ]
  },
  {
   "cell_type": "code",
   "execution_count": 80,
   "id": "78a54405-6a54-49aa-8de2-6b8cbafe91b3",
   "metadata": {
    "tags": []
   },
   "outputs": [],
   "source": [
    "from sklearn.preprocessing import RobustScaler\n",
    "rc = RobustScaler()\n",
    "X_train = rc.fit_transform(X_train)\n",
    "X_test = rc.transform(X_test)"
   ]
  },
  {
   "cell_type": "code",
   "execution_count": 81,
   "id": "25d1ff4b-de19-4e44-bb5b-dc0b0993cfcb",
   "metadata": {
    "tags": []
   },
   "outputs": [],
   "source": [
    "from sklearn.preprocessing import StandardScaler\n",
    "sc = StandardScaler()\n",
    "X_train = sc.fit_transform(X_train)\n",
    "X_test = sc.transform(X_test)"
   ]
  },
  {
   "cell_type": "code",
   "execution_count": 83,
   "id": "cac02c77-1189-47a4-8f8e-bcf50dbd9c80",
   "metadata": {},
   "outputs": [
    {
     "name": "stdout",
     "output_type": "stream",
     "text": [
      "StandardScaler:\n",
      "Accuracy: 0.8833\n",
      "Best Hyperparameters: {'lr__C': 100}\n",
      "\n",
      "RobustScaler:\n",
      "Accuracy: 0.8750\n",
      "Best Hyperparameters: {'lr__C': 500}\n",
      "\n",
      "MinMaxScaler:\n",
      "Accuracy: 0.8833\n",
      "Best Hyperparameters: {'lr__C': 500}\n",
      "\n"
     ]
    }
   ],
   "source": [
    "import warnings\n",
    "from sklearn.exceptions import ConvergenceWarning\n",
    "from sklearn.model_selection import GridSearchCV, train_test_split\n",
    "from sklearn.pipeline import Pipeline\n",
    "from sklearn.preprocessing import StandardScaler, RobustScaler, MinMaxScaler\n",
    "from sklearn.linear_model import LogisticRegression\n",
    "from sklearn.metrics import accuracy_score\n",
    "\n",
    "# Suppress ConvergenceWarning\n",
    "warnings.filterwarnings(\"ignore\", category=ConvergenceWarning)\n",
    "\n",
    "# Split the data into training and testing sets\n",
    "X_train, X_test, y_train_encoded, y_test_encoded = train_test_split(X, y_encoded, test_size=0.2, random_state=42)\n",
    "\n",
    "# Define the pipelines with different scalers and Logistic Regression\n",
    "pipelines = {\n",
    "    'StandardScaler': Pipeline([('scaler', StandardScaler()), ('lr', LogisticRegression(max_iter=1000, solver='lbfgs'))]),\n",
    "    'RobustScaler': Pipeline([('scaler', RobustScaler()), ('lr', LogisticRegression(max_iter=1000, solver='lbfgs'))]),\n",
    "    'MinMaxScaler': Pipeline([('scaler', MinMaxScaler()), ('lr', LogisticRegression(max_iter=1000, solver='lbfgs'))])\n",
    "}\n",
    "\n",
    "# Define the hyperparameter grid for GridSearchCV\n",
    "param_grid = {\n",
    "    'lr__C': [0.001, 0.01, 0.1, 1, 10, 100, 500, 1000],  # Regularization strength\n",
    "}\n",
    "\n",
    "# Perform hyperparameter tuning and evaluation for each scaler\n",
    "results = {}\n",
    "for scaler_name, pipeline in pipelines.items():\n",
    "    grid_search = GridSearchCV(estimator=pipeline, param_grid=param_grid, cv=5)\n",
    "    grid_search.fit(X_train, y_train_encoded)\n",
    "    best_params = grid_search.best_params_\n",
    "    best_model = grid_search.best_estimator_\n",
    "    best_model.fit(X_train, y_train_encoded)\n",
    "    y_pred = best_model.predict(X_test)\n",
    "    accuracy = accuracy_score(y_test_encoded, y_pred)\n",
    "    results[scaler_name] = {'Accuracy': accuracy, 'Best Hyperparameters': best_params}\n",
    "\n",
    "# Print the results\n",
    "for scaler_name, result in results.items():\n",
    "    print(f'{scaler_name}:')\n",
    "    print(f'Accuracy: {result[\"Accuracy\"]:.4f}')\n",
    "    print(f'Best Hyperparameters: {result[\"Best Hyperparameters\"]}')\n",
    "    print()\n"
   ]
  },
  {
   "cell_type": "markdown",
   "id": "ed1de27d-2b8b-4a3d-bf83-66f69f435402",
   "metadata": {},
   "source": [
    "### Model Training"
   ]
  },
  {
   "cell_type": "markdown",
   "id": "c3e978bb-a1af-48d7-ae11-6912bbe45adf",
   "metadata": {},
   "source": [
    "<p justify =\"align\">Now that we have the data in a format appropriate for machine learning, we can begin training a model. In this demonstration notebook, we have used a binary logistic regression model from the scikit-learn library. This library offers a wide range of other models, each with the capacity for extensive parameter tuning and customization capabilities.</p>\n",
    "\n",
    "<p justify =\"align\">Scikit-learn models require separation of predictor variables and the response variable. You have to store the predictor variables in array X and the response variable in the array Y. You must make sure not to include the response variable in array X. It also doesn't make sense to use latitude and longitude as predictor variables in such a confined area, so we drop those too.</p>"
   ]
  },
  {
   "cell_type": "code",
   "execution_count": 88,
   "id": "bfda3648-f281-48c6-8680-311b372ce219",
   "metadata": {},
   "outputs": [
    {
     "name": "stdout",
     "output_type": "stream",
     "text": [
      "Random Forest: Accuracy = 1.0000, Best Params = {'classifier__max_depth': None, 'classifier__n_estimators': 50}\n",
      "Gradient Boosting: Accuracy = 1.0000, Best Params = {'classifier__learning_rate': 1.0, 'classifier__max_depth': 7, 'classifier__n_estimators': 200}\n",
      "AdaBoost: Accuracy = 1.0000, Best Params = {'classifier__learning_rate': 0.1, 'classifier__n_estimators': 50}\n",
      "SVM: Accuracy = 1.0000, Best Params = {'classifier__C': 0.1, 'classifier__kernel': 'rbf'}\n",
      "KNN: Accuracy = 1.0000, Best Params = {'classifier__n_neighbors': 3}\n",
      "Logistic Regression: Accuracy = 0.8833, Best Params = {'classifier__C': 10}\n",
      "Naive Bayes: Accuracy = 0.7750, Best Params = {}\n"
     ]
    }
   ],
   "source": [
    "from sklearn.model_selection import GridSearchCV\n",
    "from sklearn.preprocessing import StandardScaler\n",
    "from sklearn.ensemble import RandomForestClassifier, GradientBoostingClassifier, AdaBoostClassifier\n",
    "from sklearn.svm import SVC\n",
    "from sklearn.linear_model import LogisticRegression\n",
    "from sklearn.neighbors import KNeighborsClassifier\n",
    "from sklearn.naive_bayes import GaussianNB\n",
    "from sklearn.metrics import accuracy_score\n",
    "from sklearn.pipeline import Pipeline\n",
    "\n",
    "from sklearn.model_selection import train_test_split\n",
    "\n",
    "# Assuming X and y_encoded are already defined\n",
    "X_train, X_test, y_train_encoded, y_test_encoded = train_test_split(X, y_encoded, test_size=0.2, random_state=42)\n",
    "\n",
    "# Define list of classifiers with hyperparameters\n",
    "# Define list of classifiers with hyperparameters\n",
    "classifiers = [\n",
    "    ('Logistic Regression', LogisticRegression(max_iter=1000), {'classifier__C': [0.1, 1, 10]}),\n",
    "    ('Random Forest', RandomForestClassifier(), {'classifier__n_estimators': [50, 100, 200], 'classifier__max_depth': [None, 5, 10]}),\n",
    "    ('Gradient Boosting', GradientBoostingClassifier(), {'classifier__n_estimators': [50, 100, 200], 'classifier__max_depth': [3, 5, 7], 'classifier__learning_rate': [0.1, 0.5, 1.0]}),\n",
    "    ('AdaBoost', AdaBoostClassifier(), {'classifier__n_estimators': [50, 100, 200], 'classifier__learning_rate': [0.1, 0.5, 1.0]}),\n",
    "    ('SVM', SVC(), {'classifier__C': [0.1, 1, 10], 'classifier__kernel': ['linear', 'rbf']}),\n",
    "    ('KNN', KNeighborsClassifier(), {'classifier__n_neighbors': [3, 5, 7]}),\n",
    "    ('Naive Bayes', GaussianNB(), {})\n",
    "]\n",
    "\n",
    "results = []\n",
    "\n",
    "# Loop through each classifier, perform grid search and evaluate accuracy\n",
    "for name, model, param_grid in classifiers:\n",
    "    pipeline = Pipeline([\n",
    "        ('scaler', StandardScaler()),\n",
    "        ('classifier', model)\n",
    "    ])\n",
    "    \n",
    "    grid_search = GridSearchCV(estimator=pipeline, param_grid=param_grid, cv=5)\n",
    "    grid_search.fit(X_train, y_train_encoded)\n",
    "    best_model = grid_search.best_estimator_\n",
    "    accuracy = accuracy_score(y_test_encoded, best_model.predict(X_test))\n",
    "    results.append((name, grid_search.best_params_, accuracy))\n",
    "\n",
    "# Print the results sorted by accuracy score\n",
    "results.sort(key=lambda x: x[2], reverse=True)\n",
    "for name, params, accuracy in results:\n",
    "    print(f'{name}: Accuracy = {accuracy:.4f}, Best Params = {params}')"
   ]
  },
  {
   "cell_type": "markdown",
   "id": "f7ced729-392a-4e77-a123-68750e0487de",
   "metadata": {},
   "source": [
    "When comparing the performance of different machine learning models, it's essential to consider not just the accuracy but also factors like overfitting and the characteristics of the dataset. In your case, several models are showing perfect accuracy (1.0000), which could indicate potential overfitting. However, Logistic Regression and Naive Bayes, while not achieving the highest accuracy, are not exhibiting signs of overfitting and can be further explored for the following reasons:\n",
    "\n",
    "Logistic Regression (Accuracy = 0.8833):\n",
    "Best Params: {'classifier__C': 10}\n",
    "Logistic Regression is a linear model that works well for binary classification tasks.\n",
    "It provides interpretable results and is less prone to overfitting compared to more complex models.\n",
    "The regularization parameter (C=10) helps control overfitting by penalizing large coefficients.\n",
    "\n",
    "Naive Bayes (Accuracy = 0.7750):\n",
    "Best Params: {}\n",
    "Naive Bayes is a probabilistic classifier based on Bayes' theorem and assumes independence among features.\n",
    "It performs well with categorical and text data, making it suitable for certain types of datasets.\n",
    "Despite not having hyperparameters to tune, Naive Bayes is simple and often robust against overfitting.\n",
    "\n",
    "While Random Forest, Gradient Boosting, AdaBoost, SVM, and KNN are showing perfect accuracy, they may be overfitting the training data, especially since the dataset is small. So we work with Logistic Regression and Naive Bayes, with their simplicity and regularization mechanisms, which can be further refined and explored to achieve a balance between accuracy and generalization on unseen data."
   ]
  },
  {
   "cell_type": "code",
   "execution_count": 89,
   "id": "cefaff27-e376-4674-a6dd-df61c546e82b",
   "metadata": {},
   "outputs": [
    {
     "name": "stdout",
     "output_type": "stream",
     "text": [
      "Logistic Regression Accuracy: 0.8833\n",
      "Best Hyperparameters: {'lr__C': 100}\n"
     ]
    }
   ],
   "source": [
    "import warnings\n",
    "from sklearn.exceptions import ConvergenceWarning\n",
    "from sklearn.model_selection import GridSearchCV, train_test_split\n",
    "from sklearn.pipeline import Pipeline\n",
    "from sklearn.preprocessing import StandardScaler\n",
    "from sklearn.linear_model import LogisticRegression\n",
    "from sklearn.metrics import accuracy_score\n",
    "\n",
    "# Suppress ConvergenceWarning\n",
    "warnings.filterwarnings(\"ignore\", category=ConvergenceWarning)\n",
    "\n",
    "# Split the data into training and testing sets\n",
    "X_train, X_test, y_train_encoded, y_test_encoded = train_test_split(X, y_encoded, test_size=0.2, random_state=42)\n",
    "\n",
    "# Define the pipeline with StandardScaler and Logistic Regression\n",
    "pipeline = Pipeline([\n",
    "    ('scaler', StandardScaler()),\n",
    "    ('lr', LogisticRegression(max_iter=1000, solver='lbfgs'))  # Use 'lbfgs' solver with 'l2' penalty\n",
    "])\n",
    "\n",
    "# Define the hyperparameter grid for GridSearchCV\n",
    "param_grid = {\n",
    "    'lr__C': [0.001, 0.01, 0.1, 1, 10, 100, 500],  # Regularization strength\n",
    "}\n",
    "\n",
    "# Perform hyperparameter tuning using GridSearchCV\n",
    "grid_search = GridSearchCV(estimator=pipeline, param_grid=param_grid, cv=5)\n",
    "grid_search.fit(X_train, y_train_encoded)\n",
    "\n",
    "# Get the best hyperparameters and their corresponding model\n",
    "best_params = grid_search.best_params_\n",
    "best_model = grid_search.best_estimator_\n",
    "\n",
    "# Train the best model on the entire training data\n",
    "best_model.fit(X_train, y_train_encoded)\n",
    "\n",
    "# Evaluate the model on the testing data\n",
    "y_pred = best_model.predict(X_test)\n",
    "accuracy = accuracy_score(y_test_encoded, y_pred)\n",
    "print(f'Logistic Regression Accuracy: {accuracy:.4f}')\n",
    "print(f'Best Hyperparameters: {best_params}')"
   ]
  },
  {
   "cell_type": "markdown",
   "id": "42c01c87-650a-4578-bf21-ff4ec29f9400",
   "metadata": {},
   "source": [
    "**Feature Engineering**"
   ]
  },
  {
   "cell_type": "code",
   "execution_count": 91,
   "id": "8ae4e87e-61b2-46a3-ab7f-451db07d9717",
   "metadata": {},
   "outputs": [],
   "source": [
    " # Feature Engineering\n",
    "X_train_new = X_train.copy()\n",
    "X_test_new = X_test.copy()\n",
    "\n",
    "# Example feature engineering (you can add more as needed)\n",
    "X_train_new['vh_squared'] = X_train_new['vh'] ** 2\n",
    "X_test_new['vh_squared'] = X_test_new['vh'] ** 2\n",
    "\n",
    "X_train_new['vv_log'] = np.log(X_train_new['vv'])\n",
    "X_test_new['vv_log'] = np.log(X_test_new['vv'])"
   ]
  },
  {
   "cell_type": "code",
   "execution_count": 92,
   "id": "f4b0f46e-8d83-4276-b259-b9b61be5c420",
   "metadata": {},
   "outputs": [
    {
     "name": "stdout",
     "output_type": "stream",
     "text": [
      "Logistic Regression Accuracy: 0.9333\n",
      "Best Hyperparameters: {'lr__C': 1, 'lr__penalty': 'l2'}\n"
     ]
    }
   ],
   "source": [
    "import pandas as pd\n",
    "import numpy as np\n",
    "from sklearn.model_selection import train_test_split, GridSearchCV\n",
    "from sklearn.preprocessing import StandardScaler\n",
    "from sklearn.linear_model import LogisticRegression\n",
    "from sklearn.metrics import accuracy_score\n",
    "from sklearn.pipeline import Pipeline\n",
    "\n",
    "\n",
    "# Define the pipeline with StandardScaler and Logistic Regression\n",
    "pipeline = Pipeline([\n",
    "    ('scaler', StandardScaler()),\n",
    "    ('lr', LogisticRegression(max_iter=1000))\n",
    "])\n",
    "\n",
    "# Define the hyperparameter grid for GridSearchCV\n",
    "param_grid = {\n",
    "    'lr__C': [0.001, 0.01, 0.1, 1, 10, 100],  # Regularization strength\n",
    "    'lr__penalty': ['l1', 'l2']  # Regularization type\n",
    "}\n",
    "\n",
    "# Perform hyperparameter tuning using GridSearchCV\n",
    "grid_search = GridSearchCV(estimator=pipeline, param_grid=param_grid, cv=5)\n",
    "grid_search.fit(X_train_new, y_train_encoded)\n",
    "\n",
    "# Get the best hyperparameters and their corresponding model\n",
    "best_params = grid_search.best_params_\n",
    "best_model = grid_search.best_estimator_\n",
    "\n",
    "# Train the best model on the entire training data\n",
    "best_model.fit(X_train_new, y_train_encoded)\n",
    "\n",
    "# Evaluate the model on the testing data\n",
    "y_pred = best_model.predict(X_test_new)\n",
    "accuracy = accuracy_score(y_test_encoded, y_pred)\n",
    "print(f'Logistic Regression Accuracy: {accuracy:.4f}')\n",
    "print(f'Best Hyperparameters: {best_params}')"
   ]
  },
  {
   "cell_type": "markdown",
   "id": "e87f54ac-ccd9-43a0-a53c-3403ee56c43d",
   "metadata": {},
   "source": [
    "## Model Evaluation"
   ]
  },
  {
   "cell_type": "markdown",
   "id": "c940c3e9-caa0-4081-9941-372082cad66b",
   "metadata": {},
   "source": [
    "Now that we have trained our model , all that is left is to evaluate it. For evaluation we will generate the classification report and will plot the confusion matrix. Scikit-learn provides many other metrics that can be used for evaluation. You can even write a code on your own."
   ]
  },
  {
   "cell_type": "markdown",
   "id": "35ad0925-b550-4b26-ae96-2ec160ae3dff",
   "metadata": {
    "tags": []
   },
   "source": [
    "### In-Sample and Out-of-sample Evaluation\n",
    "<p align=\"Jutisfy\"> We will be generating a classification report and a confusion matrix for the training data. It must be stressed that this is in-sample performance testing , which is the performance testing on the training dataset. These metrics are NOT truly indicative of the model's performance. You should wait to test the model performance on the test data before you feel confident about your model.</p>"
   ]
  },
  {
   "cell_type": "markdown",
   "id": "fab57db4-c7e8-4ff2-ac31-eea3f7eab64f",
   "metadata": {},
   "source": [
    "In this section, we make predictions on the training set and store them in the <b><i>insample_ predictions</i></b> variable. A confusion matrix is generated to gauge the robustness of the model. "
   ]
  },
  {
   "cell_type": "code",
   "execution_count": 99,
   "id": "4f01a026-4441-435c-918a-dcbf734d0935",
   "metadata": {},
   "outputs": [
    {
     "name": "stdout",
     "output_type": "stream",
     "text": [
      "In-sample Evaluation:\n",
      "Accuracy: 0.8833\n",
      "Precision: 0.8555\n",
      "Recall: 0.9202\n",
      "F1 Score: 0.8866\n",
      "ROC AUC Score: 0.8836\n",
      "\n",
      "Out-of-sample Evaluation:\n",
      "Accuracy: 0.9333\n",
      "Precision: 0.8857\n",
      "Recall: 1.0000\n",
      "F1 Score: 0.9394\n",
      "ROC AUC Score: 0.9310\n"
     ]
    }
   ],
   "source": [
    "from sklearn.metrics import accuracy_score, precision_score, recall_score, f1_score, roc_auc_score, confusion_matrix\n",
    "import seaborn as sns\n",
    "import matplotlib.pyplot as plt\n",
    "\n",
    "# In-sample evaluation\n",
    "insample_predictions = best_model.predict(X_train_new)\n",
    "insample_accuracy = accuracy_score(y_train_encoded, insample_predictions)\n",
    "insample_precision = precision_score(y_train_encoded, insample_predictions)\n",
    "insample_recall = recall_score(y_train_encoded, insample_predictions)\n",
    "insample_f1 = f1_score(y_train_encoded, insample_predictions)\n",
    "insample_roc_auc = roc_auc_score(y_train_encoded, insample_predictions)\n",
    "\n",
    "print('In-sample Evaluation:')\n",
    "print(f'Accuracy: {insample_accuracy:.4f}')\n",
    "print(f'Precision: {insample_precision:.4f}')\n",
    "print(f'Recall: {insample_recall:.4f}')\n",
    "print(f'F1 Score: {insample_f1:.4f}')\n",
    "print(f'ROC AUC Score: {insample_roc_auc:.4f}')\n",
    "\n",
    "# Out-of-sample evaluation\n",
    "outsample_predictions = best_model.predict(X_test_new)\n",
    "outsample_accuracy = accuracy_score(y_test_encoded, outsample_predictions)\n",
    "outsample_precision = precision_score(y_test_encoded, outsample_predictions)\n",
    "outsample_recall = recall_score(y_test_encoded, outsample_predictions)\n",
    "outsample_f1 = f1_score(y_test_encoded, outsample_predictions)\n",
    "outsample_roc_auc = roc_auc_score(y_test_encoded, outsample_predictions)\n",
    "\n",
    "print('\\nOut-of-sample Evaluation:')\n",
    "print(f'Accuracy: {outsample_accuracy:.4f}')\n",
    "print(f'Precision: {outsample_precision:.4f}')\n",
    "print(f'Recall: {outsample_recall:.4f}')\n",
    "print(f'F1 Score: {outsample_f1:.4f}')\n",
    "print(f'ROC AUC Score: {outsample_roc_auc:.4f}')\n",
    "\n"
   ]
  },
  {
   "cell_type": "code",
   "execution_count": 102,
   "id": "99c77326-b7d5-4dc4-8101-96bece8aceb2",
   "metadata": {
    "tags": []
   },
   "outputs": [
    {
     "data": {
      "image/png": "[encoded data removed]",
      "text/plain": [
       "<Figure size 800x600 with 2 Axes>"
      ]
     },
     "metadata": {},
     "output_type": "display_data"
    },
    {
     "data": {
      "image/png": "[encoded data removed]",
      "text/plain": [
       "<Figure size 800x600 with 2 Axes>"
      ]
     },
     "metadata": {},
     "output_type": "display_data"
    }
   ],
   "source": [
    "# Confusion matrix for out-of-sample predictions\n",
    "labels = ['Rice', 'Non-Rice']\n",
    "conf_matrix_outsample = confusion_matrix(y_test_encoded, outsample_predictions)\n",
    "plt.figure(figsize=(8, 6))\n",
    "sns.heatmap(conf_matrix_outsample, annot=True, fmt='d', cmap='Greens')\n",
    "plt.xticks(ticks=[0.5, 1.5], labels=labels)\n",
    "plt.yticks(ticks=[0.5, 1.5], labels=labels)\n",
    "plt.xlabel('Predicted Label')\n",
    "plt.ylabel('True Label')\n",
    "plt.title('Out-of-sample Confusion Matrix')\n",
    "plt.show()\n",
    "\n",
    "# Confusion matrix for in-sample predictions\n",
    "insample_predictions = best_model.predict(X_train_new)\n",
    "conf_matrix_insample = confusion_matrix(y_train_encoded, insample_predictions)\n",
    "plt.figure(figsize=(8, 6))\n",
    "sns.heatmap(conf_matrix_insample, annot=True, fmt='d', cmap='Blues')\n",
    "plt.xticks(ticks=[0.5, 1.5], labels=labels)\n",
    "plt.yticks(ticks=[0.5, 1.5], labels=labels)\n",
    "plt.xlabel('Predicted Label')\n",
    "plt.ylabel('True Label')\n",
    "plt.title('In-sample Confusion Matrix')\n",
    "plt.show()\n"
   ]
  },
  {
   "cell_type": "markdown",
   "id": "2629f3f5-5a51-45d7-9c68-75b969101405",
   "metadata": {},
   "source": [
    "## Submission"
   ]
  },
  {
   "cell_type": "markdown",
   "id": "287c178f-1113-4456-b1c6-3188273bc1f3",
   "metadata": {},
   "source": [
    "Once you are happy with your model, you can make a submission. To make a submission, you will need to use your model to make predictions about the presence of rice crops for a set of test coordinates we have provided in the <a href=\"https://challenge.ey.com/api/v1/storage/admin-files/6847912254281276-63ca8b5ab12e510013520e2b-challenge_1_submission_template.csv\"><b>\"challenge_1_submission_template.csv\"</b></a> file and upload the file onto the challenge platform."
   ]
  },
  {
   "cell_type": "code",
   "execution_count": 103,
   "id": "c1fc4682-5a87-4ccb-9b4d-877221e397e9",
   "metadata": {
    "tags": []
   },
   "outputs": [
    {
     "data": {
      "text/html": [
       "<div>\n",
       "<style scoped>\n",
       "    .dataframe tbody tr th:only-of-type {\n",
       "        vertical-align: middle;\n",
       "    }\n",
       "\n",
       "    .dataframe tbody tr th {\n",
       "        vertical-align: top;\n",
       "    }\n",
       "\n",
       "    .dataframe thead th {\n",
       "        text-align: right;\n",
       "    }\n",
       "</style>\n",
       "<table border=\"1\" class=\"dataframe\">\n",
       "  <thead>\n",
       "    <tr style=\"text-align: right;\">\n",
       "      <th></th>\n",
       "      <th>Latitude and Longitude</th>\n",
       "    </tr>\n",
       "  </thead>\n",
       "  <tbody>\n",
       "    <tr>\n",
       "      <th>0</th>\n",
       "      <td>(10.18019073690894, 105.32022315786804)</td>\n",
       "    </tr>\n",
       "    <tr>\n",
       "      <th>1</th>\n",
       "      <td>(10.561107033461816, 105.12772097986661)</td>\n",
       "    </tr>\n",
       "    <tr>\n",
       "      <th>2</th>\n",
       "      <td>(10.623790611954897, 105.13771401411867)</td>\n",
       "    </tr>\n",
       "    <tr>\n",
       "      <th>3</th>\n",
       "      <td>(10.583364246115156, 105.23946127195805)</td>\n",
       "    </tr>\n",
       "    <tr>\n",
       "      <th>4</th>\n",
       "      <td>(10.20744446668854, 105.26844107128906)</td>\n",
       "    </tr>\n",
       "  </tbody>\n",
       "</table>\n",
       "</div>"
      ],
      "text/plain": [
       "                     Latitude and Longitude\n",
       "0   (10.18019073690894, 105.32022315786804)\n",
       "1  (10.561107033461816, 105.12772097986661)\n",
       "2  (10.623790611954897, 105.13771401411867)\n",
       "3  (10.583364246115156, 105.23946127195805)\n",
       "4   (10.20744446668854, 105.26844107128906)"
      ]
     },
     "execution_count": 103,
     "metadata": {},
     "output_type": "execute_result"
    }
   ],
   "source": [
    "#Reading the coordinates for the submission\n",
    "test_file = pd.read_csv('challenge_1_submission_template.csv')\n",
    "test_file.head()"
   ]
  },
  {
   "cell_type": "code",
   "execution_count": 106,
   "id": "c0c5e29a-3bfa-4f5e-ac00-ffbf6b18033e",
   "metadata": {
    "tags": []
   },
   "outputs": [
    {
     "name": "stderr",
     "output_type": "stream",
     "text": [
      "100%|██████████| 250/250 [01:11<00:00,  3.52it/s]\n"
     ]
    }
   ],
   "source": [
    "## Get Sentinel-1-RTC Data\n",
    "time_slice = \"2022-12-01/2024-03-20\"\n",
    "assests = ['vh','vv']\n",
    "vh_vv = []\n",
    "for coordinates in tqdm(test_file['Latitude and Longitude']):\n",
    "    vh_vv.append(get_sentinel_data(coordinates,time_slice,assests))\n",
    "vh_vv_data_submission = pd.DataFrame(vh_vv,columns =['vh','vv','rvi'])"
   ]
  },
  {
   "cell_type": "code",
   "execution_count": 107,
   "id": "08b02ce9-ef4b-4e96-b895-cabca85f2860",
   "metadata": {
    "tags": []
   },
   "outputs": [
    {
     "data": {
      "text/html": [
       "<div>\n",
       "<style scoped>\n",
       "    .dataframe tbody tr th:only-of-type {\n",
       "        vertical-align: middle;\n",
       "    }\n",
       "\n",
       "    .dataframe tbody tr th {\n",
       "        vertical-align: top;\n",
       "    }\n",
       "\n",
       "    .dataframe thead th {\n",
       "        text-align: right;\n",
       "    }\n",
       "</style>\n",
       "<table border=\"1\" class=\"dataframe\">\n",
       "  <thead>\n",
       "    <tr style=\"text-align: right;\">\n",
       "      <th></th>\n",
       "      <th>vh</th>\n",
       "      <th>vv</th>\n",
       "      <th>rvi</th>\n",
       "    </tr>\n",
       "  </thead>\n",
       "  <tbody>\n",
       "    <tr>\n",
       "      <th>245</th>\n",
       "      <td>0.005842</td>\n",
       "      <td>0.013942</td>\n",
       "      <td>0.991575</td>\n",
       "    </tr>\n",
       "    <tr>\n",
       "      <th>246</th>\n",
       "      <td>0.012744</td>\n",
       "      <td>0.015107</td>\n",
       "      <td>1.348023</td>\n",
       "    </tr>\n",
       "    <tr>\n",
       "      <th>247</th>\n",
       "      <td>0.003662</td>\n",
       "      <td>0.019544</td>\n",
       "      <td>0.579308</td>\n",
       "    </tr>\n",
       "    <tr>\n",
       "      <th>248</th>\n",
       "      <td>0.013899</td>\n",
       "      <td>0.144183</td>\n",
       "      <td>0.335871</td>\n",
       "    </tr>\n",
       "    <tr>\n",
       "      <th>249</th>\n",
       "      <td>0.032755</td>\n",
       "      <td>0.099469</td>\n",
       "      <td>0.859450</td>\n",
       "    </tr>\n",
       "  </tbody>\n",
       "</table>\n",
       "</div>"
      ],
      "text/plain": [
       "           vh        vv       rvi\n",
       "245  0.005842  0.013942  0.991575\n",
       "246  0.012744  0.015107  1.348023\n",
       "247  0.003662  0.019544  0.579308\n",
       "248  0.013899  0.144183  0.335871\n",
       "249  0.032755  0.099469  0.859450"
      ]
     },
     "execution_count": 107,
     "metadata": {},
     "output_type": "execute_result"
    }
   ],
   "source": [
    "vh_vv_data_submission.tail() "
   ]
  },
  {
   "cell_type": "code",
   "execution_count": 108,
   "id": "6593db9b-402b-48de-8067-e5c1d1364e05",
   "metadata": {},
   "outputs": [
    {
     "name": "stderr",
     "output_type": "stream",
     "text": [
      "100%|██████████| 250/250 [02:58<00:00,  1.40it/s]\n"
     ]
    }
   ],
   "source": [
    "## Function call to extract VV,VH Values\n",
    "time_slice = \"2022-12-01/2024-03-20\"\n",
    "ndvi_savi_evi_albedo = []\n",
    "for coordinates in tqdm(test_file['Latitude and Longitude']):\n",
    "    ndvi_savi_evi_albedo.append(get_sentinel_data2(coordinates,time_slice))\n",
    "ndvi_savi_evi_albedo_data_submission = pd.DataFrame(ndvi_savi_evi_albedo,columns =['ndvi','savi','evi','albedo'])"
   ]
  },
  {
   "cell_type": "code",
   "execution_count": null,
   "id": "764f980e-e341-463a-9dd7-6b64dd803a6b",
   "metadata": {},
   "outputs": [],
   "source": [
    "ndvi_savi_evi_albedo_data_submission.tail() "
   ]
  },
  {
   "cell_type": "code",
   "execution_count": 126,
   "id": "34f43863-d4ba-4506-a415-d943905790b4",
   "metadata": {},
   "outputs": [
    {
     "data": {
      "text/html": [
       "<div>\n",
       "<style scoped>\n",
       "    .dataframe tbody tr th:only-of-type {\n",
       "        vertical-align: middle;\n",
       "    }\n",
       "\n",
       "    .dataframe tbody tr th {\n",
       "        vertical-align: top;\n",
       "    }\n",
       "\n",
       "    .dataframe thead th {\n",
       "        text-align: right;\n",
       "    }\n",
       "</style>\n",
       "<table border=\"1\" class=\"dataframe\">\n",
       "  <thead>\n",
       "    <tr style=\"text-align: right;\">\n",
       "      <th></th>\n",
       "      <th>Latitude and Longitude</th>\n",
       "      <th>vh</th>\n",
       "      <th>vv</th>\n",
       "      <th>rvi</th>\n",
       "      <th>ndvi</th>\n",
       "      <th>savi</th>\n",
       "      <th>evi</th>\n",
       "      <th>albedo</th>\n",
       "    </tr>\n",
       "  </thead>\n",
       "  <tbody>\n",
       "    <tr>\n",
       "      <th>245</th>\n",
       "      <td>(10.308283266873062, 105.50872812216863)</td>\n",
       "      <td>0.005842</td>\n",
       "      <td>0.013942</td>\n",
       "      <td>0.991575</td>\n",
       "      <td>0.252923</td>\n",
       "      <td>0.379347</td>\n",
       "      <td>1.752295</td>\n",
       "      <td>2022.427450</td>\n",
       "    </tr>\n",
       "    <tr>\n",
       "      <th>246</th>\n",
       "      <td>(10.582910017285496, 105.23991550078767)</td>\n",
       "      <td>0.012744</td>\n",
       "      <td>0.015107</td>\n",
       "      <td>1.348023</td>\n",
       "      <td>0.277897</td>\n",
       "      <td>0.416809</td>\n",
       "      <td>1.308196</td>\n",
       "      <td>2129.853726</td>\n",
       "    </tr>\n",
       "    <tr>\n",
       "      <th>247</th>\n",
       "      <td>(10.581547330796518, 105.23991550078767)</td>\n",
       "      <td>0.003662</td>\n",
       "      <td>0.019544</td>\n",
       "      <td>0.579308</td>\n",
       "      <td>0.280466</td>\n",
       "      <td>0.420661</td>\n",
       "      <td>1.314948</td>\n",
       "      <td>2131.962951</td>\n",
       "    </tr>\n",
       "    <tr>\n",
       "      <th>248</th>\n",
       "      <td>(10.629241357910818, 105.15315779432643)</td>\n",
       "      <td>0.013899</td>\n",
       "      <td>0.144183</td>\n",
       "      <td>0.335871</td>\n",
       "      <td>0.322383</td>\n",
       "      <td>0.483532</td>\n",
       "      <td>1.551768</td>\n",
       "      <td>2153.312151</td>\n",
       "    </tr>\n",
       "    <tr>\n",
       "      <th>249</th>\n",
       "      <td>(10.574733898351617, 105.10410108072531)</td>\n",
       "      <td>0.032755</td>\n",
       "      <td>0.099469</td>\n",
       "      <td>0.859450</td>\n",
       "      <td>0.273193</td>\n",
       "      <td>0.409752</td>\n",
       "      <td>1.287401</td>\n",
       "      <td>2140.936498</td>\n",
       "    </tr>\n",
       "  </tbody>\n",
       "</table>\n",
       "</div>"
      ],
      "text/plain": [
       "                       Latitude and Longitude        vh        vv       rvi  \\\n",
       "245  (10.308283266873062, 105.50872812216863)  0.005842  0.013942  0.991575   \n",
       "246  (10.582910017285496, 105.23991550078767)  0.012744  0.015107  1.348023   \n",
       "247  (10.581547330796518, 105.23991550078767)  0.003662  0.019544  0.579308   \n",
       "248  (10.629241357910818, 105.15315779432643)  0.013899  0.144183  0.335871   \n",
       "249  (10.574733898351617, 105.10410108072531)  0.032755  0.099469  0.859450   \n",
       "\n",
       "         ndvi      savi       evi       albedo  \n",
       "245  0.252923  0.379347  1.752295  2022.427450  \n",
       "246  0.277897  0.416809  1.308196  2129.853726  \n",
       "247  0.280466  0.420661  1.314948  2131.962951  \n",
       "248  0.322383  0.483532  1.551768  2153.312151  \n",
       "249  0.273193  0.409752  1.287401  2140.936498  "
      ]
     },
     "execution_count": 126,
     "metadata": {},
     "output_type": "execute_result"
    }
   ],
   "source": [
    "merged_submission_data = combine_all_datasets(test_file,vh_vv_data_submission,ndvi_savi_evi_albedo_data_submission)\n",
    "merged_submission_data.tail()"
   ]
  },
  {
   "cell_type": "code",
   "execution_count": 127,
   "id": "6bdf1348-f84d-46cb-a8fc-79e681ee4f75",
   "metadata": {},
   "outputs": [],
   "source": [
    "merged_submission_data.drop(columns=['Latitude and Longitude'], inplace=True)\n",
    "final_merge = merged_submission_data  "
   ]
  },
  {
   "cell_type": "code",
   "execution_count": 138,
   "id": "12ef2d6d-ec45-42a1-ba89-d332ca0e3101",
   "metadata": {},
   "outputs": [
    {
     "data": {
      "text/html": [
       "<div>\n",
       "<style scoped>\n",
       "    .dataframe tbody tr th:only-of-type {\n",
       "        vertical-align: middle;\n",
       "    }\n",
       "\n",
       "    .dataframe tbody tr th {\n",
       "        vertical-align: top;\n",
       "    }\n",
       "\n",
       "    .dataframe thead th {\n",
       "        text-align: right;\n",
       "    }\n",
       "</style>\n",
       "<table border=\"1\" class=\"dataframe\">\n",
       "  <thead>\n",
       "    <tr style=\"text-align: right;\">\n",
       "      <th></th>\n",
       "      <th>vh</th>\n",
       "      <th>vv</th>\n",
       "      <th>rvi</th>\n",
       "      <th>ndvi</th>\n",
       "      <th>savi</th>\n",
       "      <th>evi</th>\n",
       "      <th>albedo</th>\n",
       "    </tr>\n",
       "  </thead>\n",
       "  <tbody>\n",
       "    <tr>\n",
       "      <th>0</th>\n",
       "      <td>0.061296</td>\n",
       "      <td>0.076820</td>\n",
       "      <td>1.323926</td>\n",
       "      <td>0.122967</td>\n",
       "      <td>0.184429</td>\n",
       "      <td>1.075772</td>\n",
       "      <td>1901.101410</td>\n",
       "    </tr>\n",
       "    <tr>\n",
       "      <th>1</th>\n",
       "      <td>0.025312</td>\n",
       "      <td>0.036651</td>\n",
       "      <td>1.256703</td>\n",
       "      <td>0.273995</td>\n",
       "      <td>0.410956</td>\n",
       "      <td>1.305927</td>\n",
       "      <td>2117.997680</td>\n",
       "    </tr>\n",
       "    <tr>\n",
       "      <th>2</th>\n",
       "      <td>0.032175</td>\n",
       "      <td>0.107747</td>\n",
       "      <td>0.807148</td>\n",
       "      <td>0.320559</td>\n",
       "      <td>0.480797</td>\n",
       "      <td>1.532261</td>\n",
       "      <td>2151.270543</td>\n",
       "    </tr>\n",
       "    <tr>\n",
       "      <th>3</th>\n",
       "      <td>0.004751</td>\n",
       "      <td>0.011246</td>\n",
       "      <td>0.996113</td>\n",
       "      <td>0.277820</td>\n",
       "      <td>0.416692</td>\n",
       "      <td>1.308142</td>\n",
       "      <td>2129.433131</td>\n",
       "    </tr>\n",
       "    <tr>\n",
       "      <th>4</th>\n",
       "      <td>0.002766</td>\n",
       "      <td>0.032487</td>\n",
       "      <td>0.301312</td>\n",
       "      <td>0.140848</td>\n",
       "      <td>0.211249</td>\n",
       "      <td>0.910392</td>\n",
       "      <td>1957.652617</td>\n",
       "    </tr>\n",
       "    <tr>\n",
       "      <th>...</th>\n",
       "      <td>...</td>\n",
       "      <td>...</td>\n",
       "      <td>...</td>\n",
       "      <td>...</td>\n",
       "      <td>...</td>\n",
       "      <td>...</td>\n",
       "      <td>...</td>\n",
       "    </tr>\n",
       "    <tr>\n",
       "      <th>245</th>\n",
       "      <td>0.005842</td>\n",
       "      <td>0.013942</td>\n",
       "      <td>0.991575</td>\n",
       "      <td>0.252923</td>\n",
       "      <td>0.379347</td>\n",
       "      <td>1.752295</td>\n",
       "      <td>2022.427450</td>\n",
       "    </tr>\n",
       "    <tr>\n",
       "      <th>246</th>\n",
       "      <td>0.012744</td>\n",
       "      <td>0.015107</td>\n",
       "      <td>1.348023</td>\n",
       "      <td>0.277897</td>\n",
       "      <td>0.416809</td>\n",
       "      <td>1.308196</td>\n",
       "      <td>2129.853726</td>\n",
       "    </tr>\n",
       "    <tr>\n",
       "      <th>247</th>\n",
       "      <td>0.003662</td>\n",
       "      <td>0.019544</td>\n",
       "      <td>0.579308</td>\n",
       "      <td>0.280466</td>\n",
       "      <td>0.420661</td>\n",
       "      <td>1.314948</td>\n",
       "      <td>2131.962951</td>\n",
       "    </tr>\n",
       "    <tr>\n",
       "      <th>248</th>\n",
       "      <td>0.013899</td>\n",
       "      <td>0.144183</td>\n",
       "      <td>0.335871</td>\n",
       "      <td>0.322383</td>\n",
       "      <td>0.483532</td>\n",
       "      <td>1.551768</td>\n",
       "      <td>2153.312151</td>\n",
       "    </tr>\n",
       "    <tr>\n",
       "      <th>249</th>\n",
       "      <td>0.032755</td>\n",
       "      <td>0.099469</td>\n",
       "      <td>0.859450</td>\n",
       "      <td>0.273193</td>\n",
       "      <td>0.409752</td>\n",
       "      <td>1.287401</td>\n",
       "      <td>2140.936498</td>\n",
       "    </tr>\n",
       "  </tbody>\n",
       "</table>\n",
       "<p>250 rows × 7 columns</p>\n",
       "</div>"
      ],
      "text/plain": [
       "           vh        vv       rvi      ndvi      savi       evi       albedo\n",
       "0    0.061296  0.076820  1.323926  0.122967  0.184429  1.075772  1901.101410\n",
       "1    0.025312  0.036651  1.256703  0.273995  0.410956  1.305927  2117.997680\n",
       "2    0.032175  0.107747  0.807148  0.320559  0.480797  1.532261  2151.270543\n",
       "3    0.004751  0.011246  0.996113  0.277820  0.416692  1.308142  2129.433131\n",
       "4    0.002766  0.032487  0.301312  0.140848  0.211249  0.910392  1957.652617\n",
       "..        ...       ...       ...       ...       ...       ...          ...\n",
       "245  0.005842  0.013942  0.991575  0.252923  0.379347  1.752295  2022.427450\n",
       "246  0.012744  0.015107  1.348023  0.277897  0.416809  1.308196  2129.853726\n",
       "247  0.003662  0.019544  0.579308  0.280466  0.420661  1.314948  2131.962951\n",
       "248  0.013899  0.144183  0.335871  0.322383  0.483532  1.551768  2153.312151\n",
       "249  0.032755  0.099469  0.859450  0.273193  0.409752  1.287401  2140.936498\n",
       "\n",
       "[250 rows x 7 columns]"
      ]
     },
     "execution_count": 138,
     "metadata": {},
     "output_type": "execute_result"
    }
   ],
   "source": [
    "final_merge"
   ]
  },
  {
   "cell_type": "code",
   "execution_count": 139,
   "id": "acc241de-53a5-44b7-9406-d5069ab2d2e6",
   "metadata": {},
   "outputs": [],
   "source": [
    "from sklearn.preprocessing import StandardScaler\n",
    "\n",
    "# Assuming 'submission_data' is your submission dataset\n",
    "submission_data_new = final_merge.copy()\n",
    "\n",
    "# Feature engineering for submission data\n",
    "submission_data_new['vh_squared'] = submission_data_new['vh'] ** 2\n",
    "submission_data_new['vv_log'] = np.log(submission_data_new['vv'])\n",
    "\n",
    "# Create a new StandardScaler instance for the submission data\n",
    "sc1 = StandardScaler()\n",
    "\n",
    "# Apply StandardScaler from the training data to the submission data\n",
    "submission_data_scaled = sc1.fit_transform(submission_data_new)  # Fit and transform\n",
    "\n",
    "# Make predictions using the best_model\n",
    "final_predictions = best_model.predict(submission_data_scaled)\n",
    "final_prediction_series = pd.Series(final_predictions)\n"
   ]
  },
  {
   "cell_type": "code",
   "execution_count": 140,
   "id": "0375e4cd-fdb0-4b82-8508-6ff022061cf9",
   "metadata": {
    "tags": []
   },
   "outputs": [],
   "source": [
    "#Combining the results into dataframe\n",
    "submission_df = pd.DataFrame({'id':test_file['Latitude and Longitude'].values, 'target':final_prediction_series.values})"
   ]
  },
  {
   "cell_type": "code",
   "execution_count": 144,
   "id": "647d6223-c22b-471d-8ae3-9f911797597d",
   "metadata": {},
   "outputs": [
    {
     "data": {
      "text/html": [
       "<div>\n",
       "<style scoped>\n",
       "    .dataframe tbody tr th:only-of-type {\n",
       "        vertical-align: middle;\n",
       "    }\n",
       "\n",
       "    .dataframe tbody tr th {\n",
       "        vertical-align: top;\n",
       "    }\n",
       "\n",
       "    .dataframe thead th {\n",
       "        text-align: right;\n",
       "    }\n",
       "</style>\n",
       "<table border=\"1\" class=\"dataframe\">\n",
       "  <thead>\n",
       "    <tr style=\"text-align: right;\">\n",
       "      <th></th>\n",
       "      <th>id</th>\n",
       "      <th>target</th>\n",
       "    </tr>\n",
       "  </thead>\n",
       "  <tbody>\n",
       "    <tr>\n",
       "      <th>230</th>\n",
       "      <td>(10.505691116243296, 104.97010357598151)</td>\n",
       "      <td>Rice</td>\n",
       "    </tr>\n",
       "    <tr>\n",
       "      <th>231</th>\n",
       "      <td>(10.582910017285496, 105.23855281429877)</td>\n",
       "      <td>Non Rice</td>\n",
       "    </tr>\n",
       "    <tr>\n",
       "      <th>232</th>\n",
       "      <td>(10.506599573902617, 104.97055780481116)</td>\n",
       "      <td>Rice</td>\n",
       "    </tr>\n",
       "    <tr>\n",
       "      <th>233</th>\n",
       "      <td>(10.821834381686656, 105.20357719441648)</td>\n",
       "      <td>Non Rice</td>\n",
       "    </tr>\n",
       "    <tr>\n",
       "      <th>234</th>\n",
       "      <td>(10.507053802732276, 104.96919511832223)</td>\n",
       "      <td>Rice</td>\n",
       "    </tr>\n",
       "    <tr>\n",
       "      <th>235</th>\n",
       "      <td>(10.28148376592312, 105.53552762311739)</td>\n",
       "      <td>Rice</td>\n",
       "    </tr>\n",
       "    <tr>\n",
       "      <th>236</th>\n",
       "      <td>(10.18927531350214, 105.31204703893451)</td>\n",
       "      <td>Non Rice</td>\n",
       "    </tr>\n",
       "    <tr>\n",
       "      <th>237</th>\n",
       "      <td>(10.281029537093461, 105.53461916545811)</td>\n",
       "      <td>Rice</td>\n",
       "    </tr>\n",
       "    <tr>\n",
       "      <th>238</th>\n",
       "      <td>(10.28193799475278, 105.53552762311739)</td>\n",
       "      <td>Rice</td>\n",
       "    </tr>\n",
       "    <tr>\n",
       "      <th>239</th>\n",
       "      <td>(10.572462754203316, 105.14452744656327)</td>\n",
       "      <td>Rice</td>\n",
       "    </tr>\n",
       "    <tr>\n",
       "      <th>240</th>\n",
       "      <td>(10.28193799475278, 105.53507339428776)</td>\n",
       "      <td>Rice</td>\n",
       "    </tr>\n",
       "    <tr>\n",
       "      <th>241</th>\n",
       "      <td>(10.181553423397922, 105.3370296245647)</td>\n",
       "      <td>Non Rice</td>\n",
       "    </tr>\n",
       "    <tr>\n",
       "      <th>242</th>\n",
       "      <td>(10.568374694736377, 105.1186364032738)</td>\n",
       "      <td>Non Rice</td>\n",
       "    </tr>\n",
       "    <tr>\n",
       "      <th>243</th>\n",
       "      <td>(10.506145345072957, 104.97010357598151)</td>\n",
       "      <td>Rice</td>\n",
       "    </tr>\n",
       "    <tr>\n",
       "      <th>244</th>\n",
       "      <td>(10.583818474944817, 105.2390070431284)</td>\n",
       "      <td>Non Rice</td>\n",
       "    </tr>\n",
       "    <tr>\n",
       "      <th>245</th>\n",
       "      <td>(10.308283266873062, 105.50872812216863)</td>\n",
       "      <td>Non Rice</td>\n",
       "    </tr>\n",
       "    <tr>\n",
       "      <th>246</th>\n",
       "      <td>(10.582910017285496, 105.23991550078767)</td>\n",
       "      <td>Non Rice</td>\n",
       "    </tr>\n",
       "    <tr>\n",
       "      <th>247</th>\n",
       "      <td>(10.581547330796518, 105.23991550078767)</td>\n",
       "      <td>Non Rice</td>\n",
       "    </tr>\n",
       "    <tr>\n",
       "      <th>248</th>\n",
       "      <td>(10.629241357910818, 105.15315779432643)</td>\n",
       "      <td>Rice</td>\n",
       "    </tr>\n",
       "    <tr>\n",
       "      <th>249</th>\n",
       "      <td>(10.574733898351617, 105.10410108072531)</td>\n",
       "      <td>Rice</td>\n",
       "    </tr>\n",
       "  </tbody>\n",
       "</table>\n",
       "</div>"
      ],
      "text/plain": [
       "                                           id    target\n",
       "230  (10.505691116243296, 104.97010357598151)      Rice\n",
       "231  (10.582910017285496, 105.23855281429877)  Non Rice\n",
       "232  (10.506599573902617, 104.97055780481116)      Rice\n",
       "233  (10.821834381686656, 105.20357719441648)  Non Rice\n",
       "234  (10.507053802732276, 104.96919511832223)      Rice\n",
       "235   (10.28148376592312, 105.53552762311739)      Rice\n",
       "236   (10.18927531350214, 105.31204703893451)  Non Rice\n",
       "237  (10.281029537093461, 105.53461916545811)      Rice\n",
       "238   (10.28193799475278, 105.53552762311739)      Rice\n",
       "239  (10.572462754203316, 105.14452744656327)      Rice\n",
       "240   (10.28193799475278, 105.53507339428776)      Rice\n",
       "241   (10.181553423397922, 105.3370296245647)  Non Rice\n",
       "242   (10.568374694736377, 105.1186364032738)  Non Rice\n",
       "243  (10.506145345072957, 104.97010357598151)      Rice\n",
       "244   (10.583818474944817, 105.2390070431284)  Non Rice\n",
       "245  (10.308283266873062, 105.50872812216863)  Non Rice\n",
       "246  (10.582910017285496, 105.23991550078767)  Non Rice\n",
       "247  (10.581547330796518, 105.23991550078767)  Non Rice\n",
       "248  (10.629241357910818, 105.15315779432643)      Rice\n",
       "249  (10.574733898351617, 105.10410108072531)      Rice"
      ]
     },
     "execution_count": 144,
     "metadata": {},
     "output_type": "execute_result"
    }
   ],
   "source": [
    "submission_df.tail(20)"
   ]
  },
  {
   "cell_type": "code",
   "execution_count": 152,
   "id": "b6552b17-1d9d-4f0f-9482-4dd32f86010d",
   "metadata": {},
   "outputs": [],
   "source": [
    "submission_df['target'] = submission_df['target'].replace({1: 'Rice', 0: 'Non Rice'})"
   ]
  },
  {
   "cell_type": "code",
   "execution_count": 153,
   "id": "2fcec864-4da3-41e7-80da-b77e42a9d810",
   "metadata": {
    "tags": []
   },
   "outputs": [],
   "source": [
    "#Dumping the predictions into a csv file.\n",
    "submission_df.to_csv(\"challenge_1_submission_rice_crop_prediction.csv\",index = False)"
   ]
  },
  {
   "cell_type": "code",
   "execution_count": null,
   "id": "b2d93bee-9766-4f29-a80c-a292cf03d878",
   "metadata": {},
   "outputs": [],
   "source": []
  }
 ],
 "metadata": {
  "kernelspec": {
   "display_name": "Python 3 (ipykernel)",
   "language": "python",
   "name": "python3"
  },
  "language_info": {
   "codemirror_mode": {
    "name": "ipython",
    "version": 3
   },
   "file_extension": ".py",
   "mimetype": "text/x-python",
   "name": "python",
   "nbconvert_exporter": "python",
   "pygments_lexer": "ipython3",
   "version": "3.11.8"
  }
 },
 "nbformat": 4,
 "nbformat_minor": 5
}
